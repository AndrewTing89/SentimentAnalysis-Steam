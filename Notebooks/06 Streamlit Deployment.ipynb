{
 "cells": [
  {
   "cell_type": "code",
   "execution_count": 1,
   "id": "956a8f9a-0fdc-4fc7-8912-9376d098cd6a",
   "metadata": {
    "tags": []
   },
   "outputs": [],
   "source": [
    "!pip install -q --upgrade streamlit google-auth requests"
   ]
  },
  {
   "cell_type": "code",
   "execution_count": 21,
   "id": "70b38f53-5df4-44a0-a4d3-b181b524361a",
   "metadata": {
    "tags": []
   },
   "outputs": [
    {
     "name": "stdout",
     "output_type": "stream",
     "text": [
      "Copying gs://steam-reviews-bucket-0/models/best_tfidf_lr_negRecall_20250630-050145.joblib.gz...\n",
      "- [1 files][  1.8 MiB/  1.8 MiB]                                                \n",
      "Operation completed over 1 objects/1.8 MiB.                                      \n"
     ]
    }
   ],
   "source": [
    "!mkdir -p models\n",
    "!gsutil cp gs://steam-reviews-bucket-0/models/best_tfidf_lr_negRecall_20250630-050145.joblib.gz models/"
   ]
  },
  {
   "cell_type": "code",
   "execution_count": 2,
   "id": "284f2440-de39-4ed4-9e3c-3352df1fa3fd",
   "metadata": {
    "tags": []
   },
   "outputs": [
    {
     "name": "stdout",
     "output_type": "stream",
     "text": [
      "Overwriting streamlit_app.py\n"
     ]
    }
   ],
   "source": [
    "%%writefile streamlit_app.py\n",
    "import os, joblib, streamlit as st, google.auth, subprocess, pathlib, tempfile\n",
    "from google.auth.transport.requests import AuthorizedSession\n",
    "\n",
    "# ── CONFIG via env-vars ───────────────────────────────────────────────────────\n",
    "PROJECT  = os.getenv(\"PROJECT_ID\", \"sentiment-analysis-steam\")\n",
    "REGION   = os.getenv(\"REGION\",     \"us-central1\")\n",
    "EP_BERT  = os.getenv(\"ENDPOINT_ID_DISTILBERT\")              # 18-digit ID\n",
    "BUNDLE   = os.getenv(\n",
    "    \"LOGREG_BUNDLE_PATH\",\n",
    "    \"models/best_tfidf_lr_negRecall_20250630-050145.joblib.gz\"\n",
    ")\n",
    "\n",
    "# ── DistilBERT (Vertex endpoint) ─────────────────────────────────────────────\n",
    "def bert_predict(text: str):\n",
    "    if not EP_BERT:\n",
    "        return {\"error\": \"ENDPOINT_ID_DISTILBERT not set\"}\n",
    "    url = (f\"https://{REGION}-aiplatform.googleapis.com/v1/projects/\"\n",
    "           f\"{PROJECT}/locations/{REGION}/endpoints/{EP_BERT}:predict\")\n",
    "    creds, _ = google.auth.default()\n",
    "    r = AuthorizedSession(creds).post(url, json={\"instances\":[{\"text\": text}]})\n",
    "    r.raise_for_status()\n",
    "    return r.json()[\"predictions\"][0]\n",
    "\n",
    "# ── Log-Reg helper (local, auto-downloads from GCS if needed) ────────────────\n",
    "_loaded = None\n",
    "def _ensure_local(path_or_gs: str) -> str:\n",
    "    if path_or_gs.startswith(\"gs://\"):\n",
    "        local = pathlib.Path(tempfile.gettempdir()) / pathlib.Path(path_or_gs).name\n",
    "        if not local.exists():\n",
    "            subprocess.check_call([\"gsutil\", \"cp\", path_or_gs, str(local)])\n",
    "        return str(local)\n",
    "    return path_or_gs\n",
    "\n",
    "def logreg_predict(text: str):\n",
    "    global _loaded\n",
    "    if _loaded is None:\n",
    "        vec, clf = joblib.load(_ensure_local(BUNDLE))\n",
    "        _loaded = (vec, clf)\n",
    "    vec, clf = _loaded\n",
    "    p = clf.predict_proba(vec.transform([text]))[0]  # [neg, pos]\n",
    "    return {\"label\": \"POSITIVE\" if p[1]>=.5 else \"NEGATIVE\", \"score\": float(p[1])}\n",
    "\n",
    "# ── Streamlit UI ─────────────────────────────────────────────────────────────\n",
    "st.title(\"🎮 Steam Review Sentiment Demo\")\n",
    "\n",
    "txt = st.text_area(\"Paste a review ↓\", height=160)\n",
    "if st.button(\"Classify\") and txt.strip():\n",
    "    col1, col2 = st.columns(2)\n",
    "\n",
    "    with col1:\n",
    "        st.subheader(\"DistilBERT (Vertex)\")\n",
    "        out = bert_predict(txt)\n",
    "        st.write(out if \"error\" in out else\n",
    "                 f\"**{out['label']}** · {out['score']:.2%}\")\n",
    "\n",
    "    with col2:\n",
    "        st.subheader(\"Log-Reg (local)\")\n",
    "        out = logreg_predict(txt)\n",
    "        st.write(out if \"error\" in out else\n",
    "                 f\"**{out['label']}** · {out['score']:.2%}\")"
   ]
  },
  {
   "cell_type": "code",
   "execution_count": 23,
   "id": "3f047e9c-c729-429d-ab41-9e442274731d",
   "metadata": {
    "tags": []
   },
   "outputs": [],
   "source": [
    "import os\n",
    "os.environ[\"PROJECT_ID\"]             = \"sentiment-analysis-steam\"\n",
    "os.environ[\"REGION\"]                 = \"us-central1\"\n",
    "os.environ[\"ENDPOINT_ID_DISTILBERT\"] = \"265181313898643456\"          # your endpoint ID\n",
    "# the bundle path is already correct; change only if you move the file"
   ]
  },
  {
   "cell_type": "code",
   "execution_count": 24,
   "id": "01d9e8fe-4d18-49d6-b949-db916455deea",
   "metadata": {
    "tags": []
   },
   "outputs": [
    {
     "name": "stdout",
     "output_type": "stream",
     "text": [
      "\n",
      "Collecting usage statistics. To deactivate, set browser.gatherUsageStats to false.\n",
      "\u001b[0m\n",
      "\u001b[0m\n",
      "\u001b[34m\u001b[1m  You can now view your Streamlit app in your browser.\u001b[0m\n",
      "\u001b[0m\n",
      "\u001b[34m  URL: \u001b[0m\u001b[1mhttp://0.0.0.0:8501\u001b[0m\n",
      "\u001b[0m\n",
      "^C\n",
      "\u001b[34m  Stopping...\u001b[0m\n"
     ]
    }
   ],
   "source": [
    "!streamlit run streamlit_app.py \\\n",
    "  --server.address 0.0.0.0 \\\n",
    "  --server.headless true \\\n",
    "  --server.port 8501 \\\n",
    "  --server.enableXsrfProtection false \\\n",
    "  --server.enableCORS false"
   ]
  },
  {
   "cell_type": "code",
   "execution_count": 8,
   "id": "1d130ce0-02d6-40b0-9cf7-27a274dd9536",
   "metadata": {
    "tags": []
   },
   "outputs": [],
   "source": [
    "# https://177e7509a651ece6-dot-us-central1.notebooks.googleusercontent.com/proxy/8501/"
   ]
  },
  {
   "cell_type": "code",
   "execution_count": null,
   "id": "3d571e36-615d-4e60-9a74-27a3a65b99ac",
   "metadata": {},
   "outputs": [],
   "source": []
  }
 ],
 "metadata": {
  "environment": {
   "kernel": "conda-base-py",
   "name": "workbench-notebooks.m130",
   "type": "gcloud",
   "uri": "us-docker.pkg.dev/deeplearning-platform-release/gcr.io/workbench-notebooks:m130"
  },
  "kernelspec": {
   "display_name": "Python 3 (ipykernel) (Local)",
   "language": "python",
   "name": "conda-base-py"
  },
  "language_info": {
   "codemirror_mode": {
    "name": "ipython",
    "version": 3
   },
   "file_extension": ".py",
   "mimetype": "text/x-python",
   "name": "python",
   "nbconvert_exporter": "python",
   "pygments_lexer": "ipython3",
   "version": "3.10.18"
  }
 },
 "nbformat": 4,
 "nbformat_minor": 5
}
